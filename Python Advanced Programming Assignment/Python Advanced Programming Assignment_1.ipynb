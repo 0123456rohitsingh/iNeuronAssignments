{
 "cells": [
  {
   "cell_type": "markdown",
   "id": "dd443e62",
   "metadata": {},
   "source": [
    "## 1. Write a function that takes a list of lists and returns the value of all of the symbols in it, where each symbol adds or takes something from the total score. Symbol values:\n",
    "\n",
    "### # = 5\n",
    "### O = 3\n",
    "### X = 1\n",
    "### ! = -1\n",
    "### !! = -3\n",
    "### !!! = -5\n",
    "### A list of lists containing 2 #s, a O, and a !!! would equal (0 + 5 + 5 + 3 - 5) 8.\n",
    "### If the final score is negative, return 0 (e.g. 3 #s, 3 !!s, 2 !!!s and a X would be\n",
    "### (0 + 5 + 5 + 5 - 3 - 3 - 3 - 5 - 5 + 1) -3, so return 0.\n",
    "### Examples\n",
    "### check_score([\n",
    "### [&quot;#&quot;, &quot;!&quot;],\n",
    "### [&quot;!!&quot;, &quot;X&quot;]\n",
    "### ]) ➞ 2\n",
    "### check_score([\n",
    "### [&quot;!!!&quot;, &quot;O&quot;, &quot;!&quot;],\n",
    "### [&quot;X&quot;, &quot;#&quot;, &quot;!!!&quot;],\n",
    "### [&quot;!!&quot;, &quot;X&quot;, &quot;O&quot;]\n",
    "### ]) ➞ 0"
   ]
  },
  {
   "cell_type": "code",
   "execution_count": 5,
   "id": "cb0c5215",
   "metadata": {},
   "outputs": [
    {
     "name": "stdout",
     "output_type": "stream",
     "text": [
      "2\n",
      "0\n"
     ]
    }
   ],
   "source": [
    "def demo(exp_list):\n",
    "    val = 0\n",
    "    for i in exp_list:\n",
    "        for j in i:\n",
    "            if j==\"#\":\n",
    "                val=val+5\n",
    "            elif j==\"O\":\n",
    "                val=val+3\n",
    "            elif j==\"X\":\n",
    "                val=val+1\n",
    "            elif j==\"!\":\n",
    "                val=val-1\n",
    "            elif j==\"!!\":\n",
    "                val=val-3\n",
    "            elif j==\"!!!\":\n",
    "                val=val-5\n",
    "    \n",
    "    if val>0:\n",
    "        return val\n",
    "    else:\n",
    "        return 0\n",
    "\n",
    "print(demo([[\"#\",\"!\"],[\"!!\",\"X\"]]))\n",
    "print(demo([[\"!!!\",\"O\",\"!\"],[\"X\",\"#\",\"!!!\"],[\"!!\",\"X\",\"O\"]]))"
   ]
  },
  {
   "cell_type": "markdown",
   "id": "dff7b1eb",
   "metadata": {},
   "source": [
    "## 2. Create a function that takes a variable number of arguments, each argument representing the number of items in a group, and returns the number of permutations (combinations) of items that you could get by taking one item from each group.\n",
    "### Examples\n",
    "### combinations(2, 3) ➞ 6\n",
    "### combinations(3, 7, 4) ➞ 84\n",
    "### combinations(2, 3, 4, 5) ➞ 120"
   ]
  },
  {
   "cell_type": "code",
   "execution_count": 8,
   "id": "69eb97c3",
   "metadata": {},
   "outputs": [
    {
     "name": "stdout",
     "output_type": "stream",
     "text": [
      "6\n",
      "84\n",
      "120\n"
     ]
    }
   ],
   "source": [
    "def combinations(*args):\n",
    "    comb=1\n",
    "    for arg in args:\n",
    "        comb=comb*arg\n",
    "    \n",
    "    return comb\n",
    "\n",
    "print(combinations(2,3))\n",
    "print(combinations(3,7,4))\n",
    "print(combinations(2,3,4,5))"
   ]
  },
  {
   "cell_type": "markdown",
   "id": "efcb3ba5",
   "metadata": {},
   "source": [
    "## 3. Create a function that takes a string as an argument and returns the Morse code equivalent."
   ]
  },
  {
   "cell_type": "code",
   "execution_count": 12,
   "id": "fb1a4a8b",
   "metadata": {},
   "outputs": [
    {
     "name": "stdout",
     "output_type": "stream",
     "text": [
      ".-..-...--.....- -.-......-.-...-...-.--..\n",
      "......-...--. --. -.-.--\n"
     ]
    }
   ],
   "source": [
    "def encode_morse(msg):\n",
    "    morse=\"\"\n",
    "    char_to_dots = {\n",
    "        'A': '.-', 'B': '-...', 'C': '-.-.', 'D': '-..', 'E': '.', 'F': '..-.',    \n",
    "        'G': '--.', 'H': '....', 'I': '..', 'J': '.---', 'K': '-.-', 'L': '.-..',\n",
    "        'M': '--', 'N': '-.', 'O': '---', 'P': '.--.', 'Q': '--.-', 'R': '.-.',\n",
    "        'S': '...', 'T': '-', 'U': '..-', 'V': '...-', 'W': '.--', 'X': '-..-',\n",
    "        'Y': '-.--', 'Z': '--..', ' ': ' ', '0': '-----',\n",
    "        '1': '.----', '2': '..---', '3': '...--', '4': '....-', '5': '.....',\n",
    "        '6': '-....', '7': '--...', '8': '---..', '9': '----.',\n",
    "        '&': '.-...', \"'\": '.----.', '@': '.--.-.', ')': '-.--.-', '(': '-.--.',\n",
    "        ':': '---...', ',': '--..--', '=': '-...-', '!': '-.-.--', '.': '.-.-.-',\n",
    "        '-': '-....-', '+': '.-.-.', '\"': '.-..-.', '?': '..--..', '/': '-..-.'\n",
    "    }\n",
    "    for s in msg:\n",
    "        for k,v in char_to_dots.items():\n",
    "            if s==k:\n",
    "                morse=morse+v\n",
    "    \n",
    "    return(morse)\n",
    "\n",
    "print(encode_morse(\"EDDABIT CHALLENGE\"))\n",
    "print(encode_morse(\"HELP ME !\"))"
   ]
  },
  {
   "cell_type": "markdown",
   "id": "aca8ca67",
   "metadata": {},
   "source": [
    "## 4. Write a function that takes a number and returns True if it&#39;s a prime; False otherwise. The number can be 2^64-1 (2 to the power of 63, not XOR). With the standard technique it would be O(2^64-1), which is much too large for the 10 second time limit."
   ]
  },
  {
   "cell_type": "code",
   "execution_count": 18,
   "id": "388476e1",
   "metadata": {},
   "outputs": [
    {
     "name": "stdout",
     "output_type": "stream",
     "text": [
      "False\n",
      "True\n",
      "True\n"
     ]
    }
   ],
   "source": [
    "from math import sqrt\n",
    "\n",
    "def prime(n):\n",
    "    prime_flag = 0\n",
    "\n",
    "    if(n > 1):\n",
    "        for i in range(2, int(sqrt(n)) + 1):\n",
    "            if (n % i == 0):\n",
    "                prime_flag = 1\n",
    "                break\n",
    "        if (prime_flag == 0):\n",
    "            return(\"True\")\n",
    "        else:\n",
    "            return(\"False\")\n",
    "    else:\n",
    "        return(\"False\")\n",
    "\n",
    "print(prime(5151512515524))\n",
    "print(prime(56963))\n",
    "print(prime(7))"
   ]
  },
  {
   "cell_type": "markdown",
   "id": "8cc9c872",
   "metadata": {},
   "source": [
    "## 5. Create a function that converts a word to a bitstring and then to a boolean list based on the following criteria:\n",
    "### 1. Locate the position of the letter in the English alphabet (from 1 to 26).\n",
    "### 2. Odd positions will be represented as 1 and 0 otherwise.\n",
    "### 3. Convert the represented positions to boolean values, 1 for True and 0 for False.\n",
    "### 4. Store the conversions into an array."
   ]
  },
  {
   "cell_type": "code",
   "execution_count": 21,
   "id": "6ef59fb7",
   "metadata": {},
   "outputs": [
    {
     "name": "stdout",
     "output_type": "stream",
     "text": [
      "[False, True, True, False]\n",
      "[False, True, False, True, True]\n",
      "[False, True, True, False]\n"
     ]
    }
   ],
   "source": [
    "def to_boolean_list(msg):\n",
    "    \n",
    "    arr=[]\n",
    "    \n",
    "    char_pos = {'a': 1, 'b': 2, 'c': 3, 'd': 4, 'e': 5, 'f': 6,    \n",
    "        'g': 7, 'h': 8, 'i': 9, 'j': 10, 'k': 11, 'l': 12,\n",
    "        'm': 13, 'n': 14, 'o': 15, 'p': 16, 'q': 17, 'r': 18,\n",
    "        's': 19, 't': 20, 'u': 21, 'v': 22, 'w': 23, 'x': 24,\n",
    "        'y': 26, 'z': 25}\n",
    "    \n",
    "    for s in msg:\n",
    "        for k,v in char_pos.items():\n",
    "            if s==k:\n",
    "                if v%2==0:\n",
    "                    arr.append(False)\n",
    "                else:\n",
    "                    arr.append(True)\n",
    "    \n",
    "    return arr\n",
    "\n",
    "print(to_boolean_list(\"deep\"))\n",
    "print(to_boolean_list(\"loves\"))\n",
    "print(to_boolean_list(\"tesh\"))"
   ]
  },
  {
   "cell_type": "code",
   "execution_count": null,
   "id": "d5ab77ab",
   "metadata": {},
   "outputs": [],
   "source": []
  }
 ],
 "metadata": {
  "kernelspec": {
   "display_name": "Python 3 (ipykernel)",
   "language": "python",
   "name": "python3"
  },
  "language_info": {
   "codemirror_mode": {
    "name": "ipython",
    "version": 3
   },
   "file_extension": ".py",
   "mimetype": "text/x-python",
   "name": "python",
   "nbconvert_exporter": "python",
   "pygments_lexer": "ipython3",
   "version": "3.9.7"
  }
 },
 "nbformat": 4,
 "nbformat_minor": 5
}
