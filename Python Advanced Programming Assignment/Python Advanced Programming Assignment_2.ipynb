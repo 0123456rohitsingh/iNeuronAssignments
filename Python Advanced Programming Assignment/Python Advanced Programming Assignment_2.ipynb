{
 "cells": [
  {
   "cell_type": "markdown",
   "id": "51cca42f",
   "metadata": {},
   "source": [
    "## 1. Write a function that takes a positive integer num and calculates how many dots exist in a pentagonal shape around the center dot on the Nth iteration."
   ]
  },
  {
   "cell_type": "code",
   "execution_count": 4,
   "id": "dafd9bcc",
   "metadata": {},
   "outputs": [
    {
     "name": "stdout",
     "output_type": "stream",
     "text": [
      "1\n",
      "6\n",
      "16\n",
      "141\n"
     ]
    }
   ],
   "source": [
    "def pentagonal(n):\n",
    "    dots=0\n",
    "    if n==1:\n",
    "        return 1\n",
    "    else:\n",
    "        for i in range(1,n):\n",
    "            dots=dots+(i*5)\n",
    "        return (dots+1)\n",
    "\n",
    "print(pentagonal(1))\n",
    "print(pentagonal(2))\n",
    "print(pentagonal(3))\n",
    "print(pentagonal(8))"
   ]
  },
  {
   "cell_type": "markdown",
   "id": "c2f6f4e8",
   "metadata": {},
   "source": [
    "## 2. Make a function that encrypts a given input"
   ]
  },
  {
   "cell_type": "code",
   "execution_count": 13,
   "id": "b7e22752",
   "metadata": {},
   "outputs": [
    {
     "name": "stdout",
     "output_type": "stream",
     "text": [
      "1lpp0aca\n",
      "0n0n0baca\n",
      "0c0r0kaca\n",
      "k0r3baca\n",
      "0c0pl0aca\n"
     ]
    }
   ],
   "source": [
    "def encrypt(msg):\n",
    "    encrypt=\"\"\n",
    "    temp = len(msg)\n",
    "    \n",
    "    for i in range(temp-1,-1,-1):\n",
    "        encrypt=encrypt+msg[i]\n",
    "    \n",
    "    encrypt = encrypt.replace('a', '0')\n",
    "    encrypt = encrypt.replace('e', '1')\n",
    "    encrypt = encrypt.replace('i', '2')\n",
    "    encrypt = encrypt.replace('o', '2')\n",
    "    encrypt = encrypt.replace('u', '3')\n",
    "    \n",
    "    encrypt = encrypt+'aca'\n",
    "    return(encrypt)\n",
    "    \n",
    "\n",
    "print(encrypt('apple'))\n",
    "print(encrypt('banana'))\n",
    "print(encrypt('karaca'))\n",
    "print(encrypt('burak'))\n",
    "print(encrypt('alpaca'))\n",
    "        "
   ]
  },
  {
   "cell_type": "markdown",
   "id": "591d70ad",
   "metadata": {},
   "source": [
    "## 3. Given the month and year as numbers, return whether that month contains a Friday 13th.(i.e You can check Python&#39;s datetime module)"
   ]
  },
  {
   "cell_type": "code",
   "execution_count": 16,
   "id": "8b4d2ebf",
   "metadata": {},
   "outputs": [
    {
     "name": "stdout",
     "output_type": "stream",
     "text": [
      "True\n",
      "True\n",
      "False\n"
     ]
    }
   ],
   "source": [
    "import datetime\n",
    "\n",
    "def has_friday_13(mm,yy):\n",
    "    if mm<10:\n",
    "        mm = '0'+str(mm)\n",
    "    else:\n",
    "        mm = str(mm)\n",
    "    yy = str(yy)\n",
    "    \n",
    "    date = \"13 \"+mm+\" \"+yy\n",
    "    \n",
    "    day = datetime.datetime.strptime(date, '%d %m %Y').weekday()\n",
    "    \n",
    "    if day==4:\n",
    "        return True\n",
    "    else:\n",
    "        return False\n",
    "    \n",
    "print(has_friday_13(3,2020))\n",
    "print(has_friday_13(10,2017))\n",
    "print(has_friday_13(1,1985))"
   ]
  },
  {
   "cell_type": "markdown",
   "id": "67a53de0",
   "metadata": {},
   "source": [
    "## 4. Write a regular expression that will help us count how many bad cookies are produced every day. You must use RegEx negative lookbehind."
   ]
  },
  {
   "cell_type": "code",
   "execution_count": 28,
   "id": "264bcca8",
   "metadata": {},
   "outputs": [
    {
     "name": "stdout",
     "output_type": "stream",
     "text": [
      "2\n"
     ]
    }
   ],
   "source": [
    "import re\n",
    "\n",
    "lst = ['bad cookie','good cookie','bad cookie','good cookie','good cookie']\n",
    "pattern='bad cookie'\n",
    "print(len(re.findall(pattern, \",\".join(lst))))"
   ]
  },
  {
   "cell_type": "markdown",
   "id": "e04758c0",
   "metadata": {},
   "source": [
    "## 5. Given a list of words in the singular form, return a set of those words in the plural form if they appear more than once in the list."
   ]
  },
  {
   "cell_type": "code",
   "execution_count": 21,
   "id": "5c37deaa",
   "metadata": {},
   "outputs": [
    {
     "name": "stdout",
     "output_type": "stream",
     "text": [
      "{'pig', 'cows'}\n",
      "{'tables'}\n",
      "{'arm', 'pencil', 'chair'}\n"
     ]
    }
   ],
   "source": [
    "def pluralize(lis):\n",
    "    op = set()\n",
    "    for i in lis:\n",
    "        n = lis.count(i)\n",
    "        if n>1:\n",
    "            i = i+'s'\n",
    "            op.add(i)\n",
    "        else:\n",
    "            op.add(i)\n",
    "    return op\n",
    "\n",
    "print(pluralize(['cow','pig','cow','cow']))\n",
    "print(pluralize(['table','table','table']))\n",
    "print(pluralize(['chair','pencil','arm']))"
   ]
  },
  {
   "cell_type": "code",
   "execution_count": null,
   "id": "fabe0261",
   "metadata": {},
   "outputs": [],
   "source": []
  }
 ],
 "metadata": {
  "kernelspec": {
   "display_name": "Python 3 (ipykernel)",
   "language": "python",
   "name": "python3"
  },
  "language_info": {
   "codemirror_mode": {
    "name": "ipython",
    "version": 3
   },
   "file_extension": ".py",
   "mimetype": "text/x-python",
   "name": "python",
   "nbconvert_exporter": "python",
   "pygments_lexer": "ipython3",
   "version": "3.9.7"
  }
 },
 "nbformat": 4,
 "nbformat_minor": 5
}
