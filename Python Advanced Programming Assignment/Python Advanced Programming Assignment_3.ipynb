{
 "cells": [
  {
   "cell_type": "markdown",
   "id": "c8c18aa6",
   "metadata": {},
   "source": [
    "## 1. Create a function to perform basic arithmetic operations that includes addition, subtraction, multiplication and division on a string number"
   ]
  },
  {
   "cell_type": "code",
   "execution_count": 3,
   "id": "1e18201f",
   "metadata": {},
   "outputs": [
    {
     "name": "stdout",
     "output_type": "stream",
     "text": [
      "24\n",
      "0\n",
      "144\n",
      "-1\n"
     ]
    }
   ],
   "source": [
    "def arithmetic_operation(exp):\n",
    "    exp = exp.split(' ')\n",
    "    n1 = int(exp[0])\n",
    "    n2 = int(exp[2])\n",
    "    op = exp[1]\n",
    "    \n",
    "    if op=='+':\n",
    "        return (n1+n2)\n",
    "    elif op=='-':\n",
    "        return (n1-n2)\n",
    "    elif op=='*':\n",
    "        return (n1*n2)\n",
    "    elif op=='//':\n",
    "        if n2==0:\n",
    "            return -1\n",
    "        else:\n",
    "            return (n1//n2)\n",
    "        \n",
    "print(arithmetic_operation('12 + 12'))\n",
    "print(arithmetic_operation('12 - 12'))\n",
    "print(arithmetic_operation('12 * 12'))\n",
    "print(arithmetic_operation('12 // 0'))"
   ]
  },
  {
   "cell_type": "markdown",
   "id": "497c1c7c",
   "metadata": {},
   "source": [
    "## 2. Write a function that takes the coordinates of three points in the form of a 2d array and returns the perimeter of the triangle. The given points are the vertices of a triangle on a two-dimensional plane."
   ]
  },
  {
   "cell_type": "code",
   "execution_count": 6,
   "id": "0be094b6",
   "metadata": {},
   "outputs": [
    {
     "name": "stdout",
     "output_type": "stream",
     "text": [
      "47.08\n",
      "3.41\n",
      "68.28\n"
     ]
    }
   ],
   "source": [
    "import math\n",
    "\n",
    "def perimeter(coordinates):\n",
    "    a=coordinates[0]\n",
    "    b=coordinates[1]\n",
    "    c=coordinates[2]\n",
    "    \n",
    "    ab = math.sqrt(((a[0]-b[0])**2)+((a[1]-b[1])**2))\n",
    "    bc = math.sqrt(((b[0]-c[0])**2)+((b[1]-c[1])**2))\n",
    "    ca = math.sqrt(((c[0]-a[0])**2)+((c[1]-a[1])**2))\n",
    "    \n",
    "    peri = ab+bc+ca\n",
    "    peri = round(peri,2)\n",
    "    \n",
    "    return peri\n",
    "\n",
    "print(perimeter([ [15, 7], [5, 22], [11, 1] ]))\n",
    "print(perimeter([ [0, 0], [0, 1], [1, 0] ]))\n",
    "print(perimeter([ [-10, -10], [10, 10 ], [-10, 10] ]))\n",
    "        "
   ]
  },
  {
   "cell_type": "markdown",
   "id": "62f5bba2",
   "metadata": {},
   "source": [
    "## 3. A city skyline can be represented as a 2-D list with 1s representing buildings. In the example below, the height of the tallest building is 4 (second-most right column).\n",
    "[[0, 0, 0, 0, 0, 0],\n",
    "[0, 0, 0, 0, 1, 0],\n",
    "[0, 0, 1, 0, 1, 0],\n",
    "[0, 1, 1, 1, 1, 0],\n",
    "[1, 1, 1, 1, 1, 1]]\n",
    "## Create a function that takes a skyline (2-D list of 0&#39;s and 1&#39;s) and returns the height of the tallest skyscraper."
   ]
  },
  {
   "cell_type": "code",
   "execution_count": 16,
   "id": "e0170497",
   "metadata": {},
   "outputs": [
    {
     "name": "stdout",
     "output_type": "stream",
     "text": [
      "3\n",
      "4\n",
      "2\n"
     ]
    }
   ],
   "source": [
    "def tallest_skyscraper(lis):\n",
    "    row = len(lis)\n",
    "    col = len(lis[0])\n",
    "    h=0\n",
    "    m=0\n",
    "    for i in range(col):\n",
    "        for j in range(row):\n",
    "            if lis[j][i]==1:\n",
    "                h=h+1\n",
    "        if h>m:\n",
    "            m=h\n",
    "        h=0\n",
    "    return m\n",
    "\n",
    "print(tallest_skyscraper([[0, 0, 0, 0],[0, 1, 0, 0],[0, 1, 1, 0],[1, 1, 1, 1]]))\n",
    "print(tallest_skyscraper([[0, 1, 0, 0],[0, 1, 0, 0],[0, 1, 1, 0],[1, 1, 1, 1]]))\n",
    "print(tallest_skyscraper([[0, 0, 0, 0],[0, 0, 0, 0],[1, 1, 1, 0],[1, 1, 1, 1]]))"
   ]
  },
  {
   "cell_type": "markdown",
   "id": "ffaf5ffb",
   "metadata": {},
   "source": [
    "## 4. A financial institution provides professional services to banks and claims charges from the customers based on the number of man-days provided. Internally, it has set a scheme to motivate and reward staff to meet and exceed targeted billable utilization and revenues by paying a bonus for each day claimed from customers in excess of a threshold target. This quarterly scheme is calculated with a threshold target of 32 days per quarter, and the incentive payment for each billable day in excess of such threshold target is shown as follows:\n",
    "\n",
    "### Days             Bonus\n",
    "### 0 to 32 days Zero\n",
    "### 33 to 40 days SGD 325 per billable day\n",
    "### 41 to 48 days SGD 550 per billable day\n",
    "### Greater than 48 days SGD 600 per billable day\n",
    "\n",
    "## Please note that incentive payment is calculated progressively. As an example, if an employee reached total billable days of 45 in a quarter, his/her incentive payment is computed as follows:\n",
    "### 32 * 0 + 8 * 325 + 5 * 550 = 5350\n",
    "## Write a function to read the billable days of an employee and return the bonus he/she has obtained in that quarter."
   ]
  },
  {
   "cell_type": "code",
   "execution_count": 17,
   "id": "283a4cd3",
   "metadata": {},
   "outputs": [
    {
     "name": "stdout",
     "output_type": "stream",
     "text": [
      "0\n",
      "1625\n",
      "8200\n"
     ]
    }
   ],
   "source": [
    "def bonus(days):\n",
    "    if days<33:\n",
    "        return 0\n",
    "    elif days>32 and days<41:\n",
    "        return ((days-32)*325)\n",
    "    elif days>40 and days<49:\n",
    "        return ((8*325)+((days-40)*550))\n",
    "    else:\n",
    "        return ((8*325)+(8*550)+((days-48)*600))\n",
    "    \n",
    "print(bonus(15))\n",
    "print(bonus(37))\n",
    "print(bonus(50))"
   ]
  },
  {
   "cell_type": "markdown",
   "id": "874439dc",
   "metadata": {},
   "source": [
    "## 5. A number is said to be Disarium if the sum of its digits raised to their respective positions is the number itself.\n",
    "## Create a function that determines whether a number is a Disarium or not."
   ]
  },
  {
   "cell_type": "code",
   "execution_count": 25,
   "id": "e69d3ab6",
   "metadata": {},
   "outputs": [
    {
     "name": "stdout",
     "output_type": "stream",
     "text": [
      "False\n",
      "True\n",
      "False\n",
      "True\n",
      "False\n",
      "True\n"
     ]
    }
   ],
   "source": [
    "def is_disarium(num):\n",
    "    i=0\n",
    "    onum=num\n",
    "    op=0\n",
    "    i = len(str(num))\n",
    "    while num!=0:\n",
    "        temp = num%10\n",
    "        num=num//10\n",
    "        op = op + (temp**i)\n",
    "        i=i-1\n",
    "    if op==onum:\n",
    "        return (True)\n",
    "    else:\n",
    "        return (False)\n",
    "    \n",
    "print(is_disarium(75))\n",
    "print(is_disarium(135))\n",
    "print(is_disarium(544))\n",
    "print(is_disarium(518))\n",
    "print(is_disarium(466))\n",
    "print(is_disarium(8))"
   ]
  },
  {
   "cell_type": "code",
   "execution_count": null,
   "id": "71a5ab3c",
   "metadata": {},
   "outputs": [],
   "source": []
  }
 ],
 "metadata": {
  "kernelspec": {
   "display_name": "Python 3 (ipykernel)",
   "language": "python",
   "name": "python3"
  },
  "language_info": {
   "codemirror_mode": {
    "name": "ipython",
    "version": 3
   },
   "file_extension": ".py",
   "mimetype": "text/x-python",
   "name": "python",
   "nbconvert_exporter": "python",
   "pygments_lexer": "ipython3",
   "version": "3.9.7"
  }
 },
 "nbformat": 4,
 "nbformat_minor": 5
}
