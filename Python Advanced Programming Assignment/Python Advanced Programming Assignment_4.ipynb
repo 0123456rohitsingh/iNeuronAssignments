{
 "cells": [
  {
   "cell_type": "markdown",
   "id": "61c38a76",
   "metadata": {},
   "source": [
    "## 1. In mathematics, the Fibonacci numbers, commonly denoted Fn, form a sequence, called the Fibonacci sequence, such that each number is the sum of the two preceding ones, starting from 0 and 1\n",
    "\n",
    "## The beginning of the sequence is this:\n",
    "### 0, 1, 1, 2, 3, 5, 8, 13, 21, 34, 55, 89, 144, ...\n",
    "## The function fastFib(num) returns the fibonacci number Fn, of the given num as an argument."
   ]
  },
  {
   "cell_type": "code",
   "execution_count": 31,
   "id": "dec2470d",
   "metadata": {},
   "outputs": [
    {
     "name": "stdout",
     "output_type": "stream",
     "text": [
      "5\n",
      "55\n",
      "6765\n",
      "12586269025\n"
     ]
    }
   ],
   "source": [
    "def fib_fast(n):\n",
    "    fnp=0\n",
    "    fn=1\n",
    "    fnn=0\n",
    "    if n>0:\n",
    "        for i in range(1,n):\n",
    "            fnn=fnp+fn\n",
    "            fnp=fn\n",
    "            fn=fnn\n",
    "    return fnn\n",
    "\n",
    "print(fib_fast(5))\n",
    "print(fib_fast(10))\n",
    "print(fib_fast(20))\n",
    "print(fib_fast(50))"
   ]
  },
  {
   "cell_type": "markdown",
   "id": "196f2216",
   "metadata": {},
   "source": [
    "## 2. Create a function that takes a strings characters as ASCII and returns each characters hexadecimal value as a string."
   ]
  },
  {
   "cell_type": "code",
   "execution_count": 19,
   "id": "68b1e735",
   "metadata": {},
   "outputs": [
    {
     "name": "stdout",
     "output_type": "stream",
     "text": [
      " 68 65 6c 6c 6f 20 77 6f 72 6c 64\n",
      " 42 69 67 20 42 6f 69\n",
      " 4d 61 72 74 79 20 50 6f 70 70 69 6e 73 6f 6e\n"
     ]
    }
   ],
   "source": [
    "def convert_to_hex(msg):\n",
    "    asc = list(msg.encode('ascii'))\n",
    "    hexa=''\n",
    "    for i in asc:\n",
    "        hexa = hexa + \" \" + str(hex(i)[2:])\n",
    "    return (str(hexa))\n",
    "\n",
    "print(convert_to_hex('hello world'))\n",
    "print(convert_to_hex('Big Boi'))\n",
    "print(convert_to_hex('Marty Poppinson'))"
   ]
  },
  {
   "cell_type": "markdown",
   "id": "9281a36a",
   "metadata": {},
   "source": [
    "## 3. Someone has attempted to censor my strings by replacing every vowel with a *, l*k* th*s. Luckily, I&#39;ve been able to find the vowels that were removed.\n",
    "## Given a censored string and a string of the censored vowels, return the original uncensored string."
   ]
  },
  {
   "cell_type": "code",
   "execution_count": 22,
   "id": "4cff076a",
   "metadata": {},
   "outputs": [
    {
     "name": "stdout",
     "output_type": "stream",
     "text": [
      "Where did my vowels go?\n",
      "abcd\n",
      "UPPERCASE\n"
     ]
    }
   ],
   "source": [
    "def uncensor(str1, str2):\n",
    "    t=0\n",
    "    msg=''\n",
    "    for i in range(len(str1)):\n",
    "        if str1[i]=='*':\n",
    "            msg=msg+str2[t]\n",
    "            t=t+1\n",
    "        else:\n",
    "            msg=msg+str1[i]\n",
    "    return msg\n",
    "\n",
    "print(uncensor('Wh*r* d*d my v*w*ls g*?', 'eeioeo'))\n",
    "print(uncensor('abcd', ''))\n",
    "print(uncensor('*PP*RC*S*', 'UEAE'))"
   ]
  },
  {
   "cell_type": "markdown",
   "id": "f605bed1",
   "metadata": {},
   "source": [
    "## 4. Write a function that takes an IP address and returns the domain name using PTR DNS records."
   ]
  },
  {
   "cell_type": "code",
   "execution_count": 25,
   "id": "b2c6d6a7",
   "metadata": {},
   "outputs": [
    {
     "name": "stdout",
     "output_type": "stream",
     "text": [
      "dns.google\n",
      "dns.google\n"
     ]
    }
   ],
   "source": [
    "import socket\n",
    "\n",
    "def get_domain(ip_address):\n",
    "  return socket.getfqdn(ip_address)\n",
    "\n",
    "print(get_domain('8.8.8.8'))\n",
    "print(get_domain('8.8.4.4'))"
   ]
  },
  {
   "cell_type": "markdown",
   "id": "3f95acbf",
   "metadata": {},
   "source": [
    "## 5. Create a function that takes an integer n and returns the factorial of factorials."
   ]
  },
  {
   "cell_type": "code",
   "execution_count": 30,
   "id": "45c68580",
   "metadata": {},
   "outputs": [
    {
     "name": "stdout",
     "output_type": "stream",
     "text": [
      "288\n",
      "34560\n",
      "24883200\n"
     ]
    }
   ],
   "source": [
    "def fact(n):\n",
    "    f=n\n",
    "    while n>1:\n",
    "        f=f*(n-1)\n",
    "        n=n-1\n",
    "    return f\n",
    "\n",
    "def fact_of_fact(n):\n",
    "    f=fact(n)\n",
    "    while n>1:\n",
    "        f=f*fact(n-1)\n",
    "        n=n-1\n",
    "    return f\n",
    "\n",
    "print(fact_of_fact(4))\n",
    "print(fact_of_fact(5))\n",
    "print(fact_of_fact(6))"
   ]
  },
  {
   "cell_type": "code",
   "execution_count": null,
   "id": "6b97f547",
   "metadata": {},
   "outputs": [],
   "source": []
  }
 ],
 "metadata": {
  "kernelspec": {
   "display_name": "Python 3 (ipykernel)",
   "language": "python",
   "name": "python3"
  },
  "language_info": {
   "codemirror_mode": {
    "name": "ipython",
    "version": 3
   },
   "file_extension": ".py",
   "mimetype": "text/x-python",
   "name": "python",
   "nbconvert_exporter": "python",
   "pygments_lexer": "ipython3",
   "version": "3.9.7"
  }
 },
 "nbformat": 4,
 "nbformat_minor": 5
}
