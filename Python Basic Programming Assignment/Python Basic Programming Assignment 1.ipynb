{
 "cells": [
  {
   "cell_type": "markdown",
   "id": "b22315da",
   "metadata": {},
   "source": [
    "## 1. Write a Python program to print \"Hello Python\"?"
   ]
  },
  {
   "cell_type": "code",
   "execution_count": 1,
   "id": "354d6190",
   "metadata": {},
   "outputs": [
    {
     "name": "stdout",
     "output_type": "stream",
     "text": [
      "Hello Python\n"
     ]
    }
   ],
   "source": [
    "print('Hello Python')"
   ]
  },
  {
   "cell_type": "markdown",
   "id": "8af09ca8",
   "metadata": {},
   "source": [
    "## 2. Write a Python program to do arithmetical operations addition and division.?"
   ]
  },
  {
   "cell_type": "code",
   "execution_count": 2,
   "id": "30064713",
   "metadata": {},
   "outputs": [
    {
     "name": "stdout",
     "output_type": "stream",
     "text": [
      "Multiplication result - 20\n",
      "Division result - 5.0\n"
     ]
    }
   ],
   "source": [
    "a=10\n",
    "b=2\n",
    "mul = a*b\n",
    "div = a/b\n",
    "print('Multiplication result - {}'.format(mul))\n",
    "print('Division result - {}'.format(div))"
   ]
  },
  {
   "cell_type": "markdown",
   "id": "a9b5bbc0",
   "metadata": {},
   "source": [
    "## 3. Write a Python program to find the area of a triangle?"
   ]
  },
  {
   "cell_type": "code",
   "execution_count": 4,
   "id": "adbd9176",
   "metadata": {},
   "outputs": [
    {
     "name": "stdout",
     "output_type": "stream",
     "text": [
      "Enter triangle base\n",
      "5\n",
      "Enter triangle height\n",
      "10\n",
      "Area of triangle is 25.0\n"
     ]
    }
   ],
   "source": [
    "print('Enter triangle base')\n",
    "b = int(input())\n",
    "print('Enter triangle height')\n",
    "h = int(input())\n",
    "area = 0.5*b*h\n",
    "print('Area of triangle is {}'.format(area))"
   ]
  },
  {
   "cell_type": "markdown",
   "id": "5252fe49",
   "metadata": {},
   "source": [
    "## 4. Write a Python program to swap two variables?"
   ]
  },
  {
   "cell_type": "code",
   "execution_count": 5,
   "id": "f4bda2fd",
   "metadata": {},
   "outputs": [
    {
     "name": "stdout",
     "output_type": "stream",
     "text": [
      "Value of a is 5\n",
      "Value of b is 7\n",
      "After Swapping\n",
      "Value of a is 7\n",
      "Value of b is 5\n"
     ]
    }
   ],
   "source": [
    "a=5\n",
    "b=7\n",
    "print('Value of a is {}'.format(a))\n",
    "print('Value of b is {}'.format(b))\n",
    "flag=a\n",
    "a=b\n",
    "b=flag\n",
    "print('After Swapping')\n",
    "print('Value of a is {}'.format(a))\n",
    "print('Value of b is {}'.format(b))"
   ]
  },
  {
   "cell_type": "markdown",
   "id": "327f477e",
   "metadata": {},
   "source": [
    "## 5. Write a Python program to generate a random number?"
   ]
  },
  {
   "cell_type": "code",
   "execution_count": 9,
   "id": "1b995924",
   "metadata": {},
   "outputs": [
    {
     "name": "stdout",
     "output_type": "stream",
     "text": [
      "0.5270553529597416\n"
     ]
    }
   ],
   "source": [
    "import random\n",
    "\n",
    "print(random.random())"
   ]
  },
  {
   "cell_type": "code",
   "execution_count": null,
   "id": "396c4359",
   "metadata": {},
   "outputs": [],
   "source": []
  }
 ],
 "metadata": {
  "kernelspec": {
   "display_name": "Python 3 (ipykernel)",
   "language": "python",
   "name": "python3"
  },
  "language_info": {
   "codemirror_mode": {
    "name": "ipython",
    "version": 3
   },
   "file_extension": ".py",
   "mimetype": "text/x-python",
   "name": "python",
   "nbconvert_exporter": "python",
   "pygments_lexer": "ipython3",
   "version": "3.9.7"
  }
 },
 "nbformat": 4,
 "nbformat_minor": 5
}
