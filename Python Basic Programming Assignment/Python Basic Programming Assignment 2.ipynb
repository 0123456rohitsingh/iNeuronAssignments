{
 "cells": [
  {
   "cell_type": "markdown",
   "id": "627d7f0f",
   "metadata": {},
   "source": [
    "## 1. Write a Python program to convert kilometers to miles?"
   ]
  },
  {
   "cell_type": "code",
   "execution_count": 1,
   "id": "560b6b8f",
   "metadata": {},
   "outputs": [
    {
     "name": "stdout",
     "output_type": "stream",
     "text": [
      "Enter distance in kilometers - \n",
      "5\n",
      "Distance in miles is - 3.1068499999999997\n"
     ]
    }
   ],
   "source": [
    "print('Enter distance in kilometers - ')\n",
    "km = int(input())\n",
    "miles = km*0.62137\n",
    "print('Distance in miles is - {}'.format(miles))"
   ]
  },
  {
   "cell_type": "markdown",
   "id": "49fbbcf9",
   "metadata": {},
   "source": [
    "## 2. Write a Python program to convert Celsius to Fahrenheit?"
   ]
  },
  {
   "cell_type": "code",
   "execution_count": 2,
   "id": "5c998386",
   "metadata": {},
   "outputs": [
    {
     "name": "stdout",
     "output_type": "stream",
     "text": [
      "Enter temperature in Celsius - \n",
      "100\n",
      "Temperature in Fahrenheit is - 212.0\n"
     ]
    }
   ],
   "source": [
    "print('Enter temperature in Celsius - ')\n",
    "cel = int(input())\n",
    "fah = (cel*1.8)+32\n",
    "print('Temperature in Fahrenheit is - {}'.format(fah))"
   ]
  },
  {
   "cell_type": "markdown",
   "id": "2291daa7",
   "metadata": {},
   "source": [
    "## 3. Write a Python program to display calendar?"
   ]
  },
  {
   "cell_type": "code",
   "execution_count": 4,
   "id": "1e86caae",
   "metadata": {},
   "outputs": [
    {
     "name": "stdout",
     "output_type": "stream",
     "text": [
      "Enter year in yy: 93\n",
      "Enter month in mm: 10\n",
      "     October 93\n",
      "Mo Tu We Th Fr Sa Su\n",
      "          1  2  3  4\n",
      " 5  6  7  8  9 10 11\n",
      "12 13 14 15 16 17 18\n",
      "19 20 21 22 23 24 25\n",
      "26 27 28 29 30 31\n",
      "\n"
     ]
    }
   ],
   "source": [
    "import calendar\n",
    "yy = int(input(\"Enter year in yy: \"))\n",
    "mm = int(input(\"Enter month in mm: \"))\n",
    "print(calendar.month(yy, mm))"
   ]
  },
  {
   "cell_type": "markdown",
   "id": "6a150fea",
   "metadata": {},
   "source": [
    "## 4. Write a Python program to solve quadratic equation?"
   ]
  },
  {
   "cell_type": "code",
   "execution_count": 5,
   "id": "0e3d4c74",
   "metadata": {},
   "outputs": [
    {
     "name": "stdout",
     "output_type": "stream",
     "text": [
      "The solutions are (-0.5833333333333334-0.9965217285917832j) and (-0.5833333333333334+0.9965217285917832j)\n"
     ]
    }
   ],
   "source": [
    "import cmath\n",
    "\n",
    "a = 6\n",
    "b = 7\n",
    "c = 8\n",
    "\n",
    "d = (b**2) - (4*a*c)\n",
    "\n",
    "sl1 = (-b-cmath.sqrt(d))/(2*a)\n",
    "sl2 = (-b+cmath.sqrt(d))/(2*a)\n",
    "\n",
    "print('The solutions are {0} and {1}'.format(sl1,sl2))"
   ]
  },
  {
   "cell_type": "markdown",
   "id": "09f804ac",
   "metadata": {},
   "source": [
    "## 5. Write a Python program to swap two variables without temp variable?"
   ]
  },
  {
   "cell_type": "code",
   "execution_count": 6,
   "id": "9a341eea",
   "metadata": {},
   "outputs": [
    {
     "name": "stdout",
     "output_type": "stream",
     "text": [
      "Original value of a is 5\n",
      "Original value of b is 9\n",
      "\n",
      "After swapping value of a is 9\n",
      "After swapping value of b is 5\n"
     ]
    }
   ],
   "source": [
    "a=5\n",
    "b=9\n",
    "print('Original value of a is {}'.format(a))\n",
    "print('Original value of b is {}'.format(b))\n",
    "a,b = b,a\n",
    "print('')\n",
    "print('After swapping value of a is {}'.format(a))\n",
    "print('After swapping value of b is {}'.format(b))\n"
   ]
  },
  {
   "cell_type": "code",
   "execution_count": null,
   "id": "53c6f47b",
   "metadata": {},
   "outputs": [],
   "source": []
  }
 ],
 "metadata": {
  "kernelspec": {
   "display_name": "Python 3 (ipykernel)",
   "language": "python",
   "name": "python3"
  },
  "language_info": {
   "codemirror_mode": {
    "name": "ipython",
    "version": 3
   },
   "file_extension": ".py",
   "mimetype": "text/x-python",
   "name": "python",
   "nbconvert_exporter": "python",
   "pygments_lexer": "ipython3",
   "version": "3.9.7"
  }
 },
 "nbformat": 4,
 "nbformat_minor": 5
}
